{
 "cells": [
  {
   "cell_type": "markdown",
   "metadata": {},
   "source": [
    "importing packages"
   ]
  },
  {
   "cell_type": "code",
   "execution_count": 1,
   "metadata": {},
   "outputs": [],
   "source": [
    "import pandas as pd\n",
    "import sampler\n",
    "import numpy as np\n",
    "import ar2gas as gas"
   ]
  },
  {
   "cell_type": "markdown",
   "metadata": {},
   "source": [
    "defining a grid"
   ]
  },
  {
   "cell_type": "code",
   "execution_count": 2,
   "metadata": {},
   "outputs": [],
   "source": [
    "(nx, ny, nz) = (500, 280, 200)\n",
    "(sx, sy, sz) = (1., 1., 1.)\n",
    "(ox, oy, oz) = (0., 0., 0.)"
   ]
  },
  {
   "cell_type": "markdown",
   "metadata": {},
   "source": [
    "defining parameters for regular sampling"
   ]
  },
  {
   "cell_type": "code",
   "execution_count": 3,
   "metadata": {},
   "outputs": [],
   "source": [
    "step_x, step_y = 20, 20"
   ]
  },
  {
   "cell_type": "code",
   "execution_count": 4,
   "metadata": {},
   "outputs": [],
   "source": [
    "dir_i = [0]\n",
    "dir_j = [0]\n",
    "step_k = [3]\n",
    "\n",
    "nz_buffer = [0]"
   ]
  },
  {
   "cell_type": "code",
   "execution_count": 5,
   "metadata": {},
   "outputs": [],
   "source": [
    "array = sampler.regular_sampling(nx, ny, nz, ox, oy, oz, sx, sy, sz, step_x, step_y, dir_i, dir_j, step_k, nz_buffer)"
   ]
  },
  {
   "cell_type": "code",
   "execution_count": 6,
   "metadata": {},
   "outputs": [],
   "source": [
    "sampled_df = pd.DataFrame(np.array(array), columns=[\"index\",\"i\",\"j\",\"k\"])"
   ]
  },
  {
   "cell_type": "markdown",
   "metadata": {},
   "source": [
    "saving to vtk"
   ]
  },
  {
   "cell_type": "code",
   "execution_count": 7,
   "metadata": {},
   "outputs": [],
   "source": [
    "points = gas.data.PointSet(np.array(sampled_df[\"i\"]), np.array(sampled_df[\"j\"]), np.array(sampled_df[\"k\"]))"
   ]
  },
  {
   "cell_type": "code",
   "execution_count": 8,
   "metadata": {},
   "outputs": [],
   "source": [
    "gas.geometry.save(\"test_reg.vtp\", points, sampled_df[\"index\"].astype(float))"
   ]
  },
  {
   "cell_type": "markdown",
   "metadata": {},
   "source": [
    "defining parameters for random sampling"
   ]
  },
  {
   "cell_type": "code",
   "execution_count": 9,
   "metadata": {},
   "outputs": [],
   "source": [
    "n_holes = 30\n",
    "\n",
    "dir_i =  [0,1,0,-1]\n",
    "dir_j =  [0,0,1,0]\n",
    "step_k = [3,3,3,3]\n",
    "\n",
    "nz_buffer = [i for i in range(-27,27,3)]"
   ]
  },
  {
   "cell_type": "code",
   "execution_count": 10,
   "metadata": {},
   "outputs": [],
   "source": [
    "array = sampler.random_sampling(n_holes, nx, ny, nz, ox, oy, oz, sx, sy, sz, dir_i, dir_j, step_k, nz_buffer)"
   ]
  },
  {
   "cell_type": "code",
   "execution_count": 11,
   "metadata": {},
   "outputs": [],
   "source": [
    "sampled_df = pd.DataFrame(np.array(array), columns=[\"index\",\"i\",\"j\",\"k\"])"
   ]
  },
  {
   "cell_type": "markdown",
   "metadata": {},
   "source": [
    "saving to vtk"
   ]
  },
  {
   "cell_type": "code",
   "execution_count": 12,
   "metadata": {},
   "outputs": [],
   "source": [
    "points = gas.data.PointSet(np.array(sampled_df[\"i\"]), np.array(sampled_df[\"j\"]), np.array(sampled_df[\"k\"]))"
   ]
  },
  {
   "cell_type": "code",
   "execution_count": 13,
   "metadata": {},
   "outputs": [],
   "source": [
    "gas.geometry.save(\"test_rand.vtp\", points, sampled_df[\"index\"].astype(float))"
   ]
  }
 ],
 "metadata": {
  "kernelspec": {
   "display_name": "Python 3",
   "language": "python",
   "name": "python3"
  },
  "language_info": {
   "codemirror_mode": {
    "name": "ipython",
    "version": 3
   },
   "file_extension": ".py",
   "mimetype": "text/x-python",
   "name": "python",
   "nbconvert_exporter": "python",
   "pygments_lexer": "ipython3",
   "version": "3.6.4"
  }
 },
 "nbformat": 4,
 "nbformat_minor": 2
}
