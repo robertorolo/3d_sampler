{
 "cells": [
  {
   "cell_type": "code",
   "execution_count": 4,
   "metadata": {},
   "outputs": [],
   "source": [
    "import pandas as pd\n",
    "import sampler\n",
    "import ar2gas as gas"
   ]
  },
  {
   "cell_type": "code",
   "execution_count": 5,
   "metadata": {},
   "outputs": [],
   "source": [
    "(nx, ny, nz) = (500, 280, 200)\n",
    "(sx, sy, sz) = (1., 1., 1.)\n",
    "(ox, oy, oz) = (0., 0., 0.)"
   ]
  },
  {
   "cell_type": "code",
   "execution_count": null,
   "metadata": {},
   "outputs": [],
   "source": [
    "sampler.regular_sampling(n_holes=10, nx=100, ny=50, nz=20, ox=0, oy=0, oz=0, sx=1, sy=1, sz=1, step_x=20, step_y=20, dir_i=[0], dir_j=[0], step_k=[0], nz_buffer=[-60, -51, -42, -33, -24, -15, -6, 3, 12, 21, 30, 39, 48, 57])"
   ]
  },
  {
   "cell_type": "code",
   "execution_count": 261,
   "metadata": {},
   "outputs": [],
   "source": [
    "sampled_df = pd.DataFrame(np.array(array), columns=[\"index\",\"i\",\"j\",\"k\"])"
   ]
  },
  {
   "cell_type": "code",
   "execution_count": 262,
   "metadata": {},
   "outputs": [],
   "source": [
    "points = gas.data.PointSet(np.array(sampled_df[\"i\"]), np.array(sampled_df[\"j\"]), np.array(sampled_df[\"k\"]))"
   ]
  },
  {
   "cell_type": "code",
   "execution_count": 263,
   "metadata": {},
   "outputs": [],
   "source": [
    "gas.geometry.save(\"test.vtp\", points, sampled_df[\"index\"].astype(float))"
   ]
  },
  {
   "cell_type": "code",
   "execution_count": null,
   "metadata": {},
   "outputs": [],
   "source": []
  }
 ],
 "metadata": {
  "kernelspec": {
   "display_name": "Python 3",
   "language": "python",
   "name": "python3"
  },
  "language_info": {
   "codemirror_mode": {
    "name": "ipython",
    "version": 3
   },
   "file_extension": ".py",
   "mimetype": "text/x-python",
   "name": "python",
   "nbconvert_exporter": "python",
   "pygments_lexer": "ipython3",
   "version": "3.6.4"
  }
 },
 "nbformat": 4,
 "nbformat_minor": 2
}
