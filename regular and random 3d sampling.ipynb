{
 "cells": [
  {
   "cell_type": "code",
   "execution_count": 232,
   "metadata": {},
   "outputs": [],
   "source": [
    "import ar2gas as gas\n",
    "import pandas as pd\n",
    "import numpy as np\n",
    "import itertools\n",
    "import random"
   ]
  },
  {
   "cell_type": "code",
   "execution_count": 233,
   "metadata": {},
   "outputs": [],
   "source": [
    "(nx, ny, nz) = (300, 180, 100)\n",
    "(sx, sy, sz) = (1., 1., 1.)\n",
    "(ox, oy, oz) = (0., 0., 0.)\n",
    "\n",
    "grid = gas.data.CartesianGrid(nx, ny, nz, sx, sy, sz, ox, oy, oz)"
   ]
  },
  {
   "cell_type": "code",
   "execution_count": 234,
   "metadata": {},
   "outputs": [],
   "source": [
    "top_slice = []\n",
    "for i, j in itertools.product(range(nx), range(ny)):\n",
    "    top_slice.append([i,j,nz])\n",
    "n_holes = 30\n",
    "random_sampling = np.random.randint(len(top_slice), size=n_holes)\n",
    "dir_i =  [0,1,0,-1]\n",
    "dir_j =  [0,0,1,0]\n",
    "step_k = [3,3,3,3]\n",
    "nz_buffer = [i for i in range(-27,27,3)]"
   ]
  },
  {
   "cell_type": "code",
   "execution_count": 222,
   "metadata": {},
   "outputs": [],
   "source": [
    "step_x, step_y = 30, 30\n",
    "top_slice = []\n",
    "for i, j in itertools.product(range(int(ox),nx,step_x), range(int(oy),ny,step_y)):\n",
    "    top_slice.append([i,j,nz])\n",
    "random_sampling = range(len(top_slice))\n",
    "dir_i =  [0]\n",
    "dir_j =  [0]\n",
    "step_k = [3]\n",
    "nz_buffer = [0]"
   ]
  },
  {
   "cell_type": "code",
   "execution_count": 235,
   "metadata": {},
   "outputs": [],
   "source": [
    "array = []"
   ]
  },
  {
   "cell_type": "code",
   "execution_count": 236,
   "metadata": {},
   "outputs": [],
   "source": [
    "#looping through every sampled node in top slice\n",
    "for hole_id, index in enumerate(random_sampling):\n",
    "    #appending first point on top slice\n",
    "    #sampled_df = sampled_df.append([row[\"i\"], row[\"j\"], row[\"k\"]], ignore_index=True)\n",
    "    array.append([hole_id, top_slice[index][0], top_slice[index][1], top_slice[index][2]])\n",
    "    \n",
    "    #setting i, j position on top slice\n",
    "    i, j = top_slice[index][0], top_slice[index][1]\n",
    "    \n",
    "    #setting the hole direction\n",
    "    rn_dir = np.random.randint(len(dir_i))\n",
    "    k_step = step_k[rn_dir]\n",
    "    \n",
    "    buff = random.choice(nz_buffer)\n",
    "    nnz = nz + buff\n",
    "    \n",
    "    #looping slices down\n",
    "    for k in range(nz - k_step, 0, -k_step):\n",
    "        \n",
    "        #setting k\n",
    "        k = k\n",
    "        \n",
    "        #setting new i, j based on hole direction\n",
    "        i, j = i+dir_i[rn_dir], j+dir_j[rn_dir]\n",
    "        \n",
    "        #if not ox<=i<=nx or not oy<=j<=ny:\n",
    "        #    continue\n",
    "        \n",
    "        #appending to sampled df\n",
    "        #sampled_df = sampled_df.append([i, j, k], ignore_index=True)\n",
    "        array.append([hole_id, i, j, k])"
   ]
  },
  {
   "cell_type": "code",
   "execution_count": 237,
   "metadata": {},
   "outputs": [],
   "source": [
    "sampled_df = pd.DataFrame(np.array(array), columns=[\"index\",\"i\",\"j\",\"k\"])"
   ]
  },
  {
   "cell_type": "code",
   "execution_count": 238,
   "metadata": {},
   "outputs": [],
   "source": [
    "points = gas.data.PointSet(np.array(sampled_df[\"i\"]), np.array(sampled_df[\"j\"]), np.array(sampled_df[\"k\"]))"
   ]
  },
  {
   "cell_type": "code",
   "execution_count": 239,
   "metadata": {},
   "outputs": [],
   "source": [
    "gas.geometry.save(\"test.vtp\", points, sampled_df[\"index\"].astype(float))"
   ]
  },
  {
   "cell_type": "code",
   "execution_count": null,
   "metadata": {},
   "outputs": [],
   "source": []
  },
  {
   "cell_type": "code",
   "execution_count": null,
   "metadata": {},
   "outputs": [],
   "source": []
  }
 ],
 "metadata": {
  "kernelspec": {
   "display_name": "Python 3",
   "language": "python",
   "name": "python3"
  },
  "language_info": {
   "codemirror_mode": {
    "name": "ipython",
    "version": 3
   },
   "file_extension": ".py",
   "mimetype": "text/x-python",
   "name": "python",
   "nbconvert_exporter": "python",
   "pygments_lexer": "ipython3",
   "version": "3.6.4"
  }
 },
 "nbformat": 4,
 "nbformat_minor": 2
}
